{
 "cells": [
  {
   "cell_type": "markdown",
   "metadata": {},
   "source": [
    "# Preparar datos"
   ]
  },
  {
   "cell_type": "code",
   "execution_count": 1,
   "metadata": {},
   "outputs": [],
   "source": [
    "import pandas as pd\n",
    "import re\n",
    "\n",
    "import numpy as np\n",
    "\n",
    "from dataloader import DataLoader"
   ]
  },
  {
   "cell_type": "markdown",
   "metadata": {},
   "source": [
    "## Datos no nulos"
   ]
  },
  {
   "cell_type": "markdown",
   "metadata": {},
   "source": [
    "Como existen suficientes datos (existe al menos un dato para cada comunidad) se optó por eliminar las filas nulas. La eliminación se realizará en el momento de selección en la clase *DataLoader*, con el fin de mantener la máxima cantidad de datos."
   ]
  },
  {
   "cell_type": "code",
   "execution_count": 2,
   "metadata": {
    "scrolled": true
   },
   "outputs": [
    {
     "name": "stdout",
     "output_type": "stream",
     "text": [
      "<class 'pandas.core.frame.DataFrame'>\n",
      "RangeIndex: 67051 entries, 0 to 67050\n",
      "Data columns (total 73 columns):\n",
      " #   Column                               Non-Null Count  Dtype  \n",
      "---  ------                               --------------  -----  \n",
      " 0   COMMUNITY AREA NAME                  67051 non-null  object \n",
      " 1   CENSUS BLOCK                         66974 non-null  float64\n",
      " 2   BUILDING TYPE                        66974 non-null  object \n",
      " 3   BUILDING_SUBTYPE                     66974 non-null  object \n",
      " 4   KWH JANUARY 2010                     66180 non-null  float64\n",
      " 5   KWH FEBRUARY 2010                    66180 non-null  float64\n",
      " 6   KWH MARCH 2010                       66180 non-null  float64\n",
      " 7   KWH APRIL 2010                       66180 non-null  float64\n",
      " 8   KWH MAY 2010                         66180 non-null  float64\n",
      " 9   KWH JUNE 2010                        66180 non-null  float64\n",
      " 10  KWH JULY 2010                        66180 non-null  float64\n",
      " 11  KWH AUGUST 2010                      66180 non-null  float64\n",
      " 12  KWH SEPTEMBER 2010                   66180 non-null  float64\n",
      " 13  KWH OCTOBER 2010                     66180 non-null  float64\n",
      " 14  KWH NOVEMBER 2010                    66180 non-null  float64\n",
      " 15  KWH DECEMBER 2010                    66180 non-null  float64\n",
      " 16  TOTAL KWH                            66180 non-null  float64\n",
      " 17  ELECTRICITY ACCOUNTS                 66180 non-null  object \n",
      " 18  ZERO KWH ACCOUNTS                    67051 non-null  int64  \n",
      " 19  THERM JANUARY 2010                   64821 non-null  float64\n",
      " 20  THERM FEBRUARY 2010                  62819 non-null  float64\n",
      " 21  THERM MARCH 2010                     65569 non-null  float64\n",
      " 22  THERM APRIL 2010                     65476 non-null  float64\n",
      " 23  THERM MAY 2010                       65194 non-null  float64\n",
      " 24  THERM JUNE 2010                      65284 non-null  float64\n",
      " 25  THERM JULY 2010                      65231 non-null  float64\n",
      " 26  THERM AUGUST 2010                    65143 non-null  float64\n",
      " 27  THERM SEPTEMBER 2010                 64769 non-null  float64\n",
      " 28  THERM OCTOBER 2010                   65329 non-null  float64\n",
      " 29  THERM NOVEMBER 2010                  65492 non-null  float64\n",
      " 30  THERM DECEMBER 2010                  65507 non-null  float64\n",
      " 31  TOTAL THERMS                         65755 non-null  float64\n",
      " 32  GAS ACCOUNTS                         65755 non-null  object \n",
      " 33  KWH TOTAL SQFT                       65901 non-null  float64\n",
      " 34  THERMS TOTAL SQFT                    65378 non-null  float64\n",
      " 35  KWH MEAN 2010                        66180 non-null  float64\n",
      " 36  KWH STANDARD DEVIATION 2010          57095 non-null  float64\n",
      " 37  KWH MINIMUM 2010                     66180 non-null  float64\n",
      " 38  KWH 1ST QUARTILE 2010                66180 non-null  float64\n",
      " 39  KWH 2ND QUARTILE 2010                66180 non-null  float64\n",
      " 40  KWH 3RD QUARTILE 2010                66180 non-null  float64\n",
      " 41  KWH MAXIMUM 2010                     66180 non-null  float64\n",
      " 42  KWH SQFT MEAN 2010                   65901 non-null  float64\n",
      " 43  KWH SQFT STANDARD DEVIATION 2010     51666 non-null  float64\n",
      " 44  KWH SQFT MINIMUM 2010                65901 non-null  float64\n",
      " 45  KWH SQFT 1ST QUARTILE 2010           65901 non-null  float64\n",
      " 46  KWH SQFT 2ND QUARTILE 2010           65901 non-null  float64\n",
      " 47  KWH SQFT 3RD QUARTILE 2010           65901 non-null  float64\n",
      " 48  KWH SQFT MAXIMUM 2010                65901 non-null  float64\n",
      " 49  THERM MEAN 2010                      65755 non-null  float64\n",
      " 50  THERM STANDARD DEVIATION 2010        56821 non-null  float64\n",
      " 51  THERM MINIMUM 2010                   65755 non-null  float64\n",
      " 52  THERM 1ST QUARTILE 2010              65755 non-null  float64\n",
      " 53  THERM 2ND QUARTILE 2010              65755 non-null  float64\n",
      " 54  THERM 3RD QUARTILE 2010              65755 non-null  float64\n",
      " 55  THERM MAXIMUM 2010                   65755 non-null  float64\n",
      " 56  THERMS SQFT MEAN 2010                65378 non-null  float64\n",
      " 57  THERMS SQFT STANDARD DEVIATION 2010  51367 non-null  float64\n",
      " 58  THERMS SQFT MINIMUM 2010             65378 non-null  float64\n",
      " 59  THERMS SQFT 1ST QUARTILE 2010        65378 non-null  float64\n",
      " 60  THERMS SQFT 2ND QUARTILE 2010        65378 non-null  float64\n",
      " 61  THERMS SQFT 3RD QUARTILE 2010        65378 non-null  float64\n",
      " 62  THERMS SQFT MAXIMUM 2010             65378 non-null  float64\n",
      " 63  TOTAL POPULATION                     67037 non-null  float64\n",
      " 64  TOTAL UNITS                          67037 non-null  float64\n",
      " 65  AVERAGE STORIES                      67051 non-null  float64\n",
      " 66  AVERAGE BUILDING AGE                 67051 non-null  float64\n",
      " 67  AVERAGE HOUSESIZE                    67037 non-null  float64\n",
      " 68  OCCUPIED UNITS                       67037 non-null  float64\n",
      " 69  OCCUPIED UNITS PERCENTAGE            64606 non-null  float64\n",
      " 70  RENTER-OCCUPIED HOUSING UNITS        67037 non-null  float64\n",
      " 71  RENTER-OCCUPIED HOUSING PERCENTAGE   64433 non-null  float64\n",
      " 72  OCCUPIED HOUSING UNITS               67037 non-null  float64\n",
      "dtypes: float64(67), int64(1), object(5)\n",
      "memory usage: 37.3+ MB\n"
     ]
    }
   ],
   "source": [
    "df = pd.read_csv('energy-usage-2010.csv')\n",
    "df.info()"
   ]
  },
  {
   "cell_type": "code",
   "execution_count": 3,
   "metadata": {},
   "outputs": [
    {
     "data": {
      "text/html": [
       "<div>\n",
       "<style scoped>\n",
       "    .dataframe tbody tr th:only-of-type {\n",
       "        vertical-align: middle;\n",
       "    }\n",
       "\n",
       "    .dataframe tbody tr th {\n",
       "        vertical-align: top;\n",
       "    }\n",
       "\n",
       "    .dataframe thead th {\n",
       "        text-align: right;\n",
       "    }\n",
       "</style>\n",
       "<table border=\"1\" class=\"dataframe\">\n",
       "  <thead>\n",
       "    <tr style=\"text-align: right;\">\n",
       "      <th></th>\n",
       "      <th>CENSUS BLOCK</th>\n",
       "      <th>KWH JANUARY 2010</th>\n",
       "      <th>KWH FEBRUARY 2010</th>\n",
       "      <th>KWH MARCH 2010</th>\n",
       "      <th>KWH APRIL 2010</th>\n",
       "      <th>KWH MAY 2010</th>\n",
       "      <th>KWH JUNE 2010</th>\n",
       "      <th>KWH JULY 2010</th>\n",
       "      <th>KWH AUGUST 2010</th>\n",
       "      <th>KWH SEPTEMBER 2010</th>\n",
       "      <th>...</th>\n",
       "      <th>TOTAL POPULATION</th>\n",
       "      <th>TOTAL UNITS</th>\n",
       "      <th>AVERAGE STORIES</th>\n",
       "      <th>AVERAGE BUILDING AGE</th>\n",
       "      <th>AVERAGE HOUSESIZE</th>\n",
       "      <th>OCCUPIED UNITS</th>\n",
       "      <th>OCCUPIED UNITS PERCENTAGE</th>\n",
       "      <th>RENTER-OCCUPIED HOUSING UNITS</th>\n",
       "      <th>RENTER-OCCUPIED HOUSING PERCENTAGE</th>\n",
       "      <th>OCCUPIED HOUSING UNITS</th>\n",
       "    </tr>\n",
       "  </thead>\n",
       "  <tbody>\n",
       "    <tr>\n",
       "      <th>count</th>\n",
       "      <td>6.697400e+04</td>\n",
       "      <td>6.618000e+04</td>\n",
       "      <td>6.618000e+04</td>\n",
       "      <td>6.618000e+04</td>\n",
       "      <td>6.618000e+04</td>\n",
       "      <td>6.618000e+04</td>\n",
       "      <td>6.618000e+04</td>\n",
       "      <td>6.618000e+04</td>\n",
       "      <td>6.618000e+04</td>\n",
       "      <td>6.618000e+04</td>\n",
       "      <td>...</td>\n",
       "      <td>67037.000000</td>\n",
       "      <td>67037.000000</td>\n",
       "      <td>67051.000000</td>\n",
       "      <td>67051.000000</td>\n",
       "      <td>67037.000000</td>\n",
       "      <td>67037.000000</td>\n",
       "      <td>64606.000000</td>\n",
       "      <td>67037.000000</td>\n",
       "      <td>64433.000000</td>\n",
       "      <td>67037.000000</td>\n",
       "    </tr>\n",
       "    <tr>\n",
       "      <th>mean</th>\n",
       "      <td>1.703140e+14</td>\n",
       "      <td>1.758159e+04</td>\n",
       "      <td>1.737651e+04</td>\n",
       "      <td>1.624212e+04</td>\n",
       "      <td>1.595696e+04</td>\n",
       "      <td>1.906623e+04</td>\n",
       "      <td>2.300485e+04</td>\n",
       "      <td>2.482891e+04</td>\n",
       "      <td>2.267526e+04</td>\n",
       "      <td>1.856410e+04</td>\n",
       "      <td>...</td>\n",
       "      <td>105.180169</td>\n",
       "      <td>48.375897</td>\n",
       "      <td>1.887592</td>\n",
       "      <td>71.593006</td>\n",
       "      <td>3.454721</td>\n",
       "      <td>42.347495</td>\n",
       "      <td>0.880365</td>\n",
       "      <td>25.438952</td>\n",
       "      <td>0.511679</td>\n",
       "      <td>42.347495</td>\n",
       "    </tr>\n",
       "    <tr>\n",
       "      <th>std</th>\n",
       "      <td>2.776392e+09</td>\n",
       "      <td>3.482508e+05</td>\n",
       "      <td>3.351910e+05</td>\n",
       "      <td>3.164713e+05</td>\n",
       "      <td>3.118232e+05</td>\n",
       "      <td>3.634429e+05</td>\n",
       "      <td>3.988582e+05</td>\n",
       "      <td>4.135955e+05</td>\n",
       "      <td>3.940989e+05</td>\n",
       "      <td>3.486212e+05</td>\n",
       "      <td>...</td>\n",
       "      <td>801.339175</td>\n",
       "      <td>426.941305</td>\n",
       "      <td>1.957215</td>\n",
       "      <td>34.168384</td>\n",
       "      <td>26.146208</td>\n",
       "      <td>371.024953</td>\n",
       "      <td>0.130937</td>\n",
       "      <td>251.193571</td>\n",
       "      <td>0.288431</td>\n",
       "      <td>371.024953</td>\n",
       "    </tr>\n",
       "    <tr>\n",
       "      <th>min</th>\n",
       "      <td>1.703101e+14</td>\n",
       "      <td>0.000000e+00</td>\n",
       "      <td>0.000000e+00</td>\n",
       "      <td>0.000000e+00</td>\n",
       "      <td>0.000000e+00</td>\n",
       "      <td>0.000000e+00</td>\n",
       "      <td>0.000000e+00</td>\n",
       "      <td>0.000000e+00</td>\n",
       "      <td>0.000000e+00</td>\n",
       "      <td>0.000000e+00</td>\n",
       "      <td>...</td>\n",
       "      <td>0.000000</td>\n",
       "      <td>0.000000</td>\n",
       "      <td>1.000000</td>\n",
       "      <td>0.000000</td>\n",
       "      <td>0.000000</td>\n",
       "      <td>0.000000</td>\n",
       "      <td>0.000000</td>\n",
       "      <td>0.000000</td>\n",
       "      <td>0.000000</td>\n",
       "      <td>0.000000</td>\n",
       "    </tr>\n",
       "    <tr>\n",
       "      <th>25%</th>\n",
       "      <td>1.703116e+14</td>\n",
       "      <td>1.370000e+03</td>\n",
       "      <td>1.613000e+03</td>\n",
       "      <td>1.586000e+03</td>\n",
       "      <td>1.579000e+03</td>\n",
       "      <td>1.957000e+03</td>\n",
       "      <td>2.700000e+03</td>\n",
       "      <td>3.203000e+03</td>\n",
       "      <td>2.837750e+03</td>\n",
       "      <td>2.027000e+03</td>\n",
       "      <td>...</td>\n",
       "      <td>37.000000</td>\n",
       "      <td>15.000000</td>\n",
       "      <td>1.140000</td>\n",
       "      <td>53.000000</td>\n",
       "      <td>2.150000</td>\n",
       "      <td>13.000000</td>\n",
       "      <td>0.833200</td>\n",
       "      <td>3.000000</td>\n",
       "      <td>0.286000</td>\n",
       "      <td>13.000000</td>\n",
       "    </tr>\n",
       "    <tr>\n",
       "      <th>50%</th>\n",
       "      <td>1.703133e+14</td>\n",
       "      <td>3.481500e+03</td>\n",
       "      <td>3.814000e+03</td>\n",
       "      <td>3.681500e+03</td>\n",
       "      <td>3.646000e+03</td>\n",
       "      <td>4.528000e+03</td>\n",
       "      <td>6.295000e+03</td>\n",
       "      <td>7.389000e+03</td>\n",
       "      <td>6.413500e+03</td>\n",
       "      <td>4.573000e+03</td>\n",
       "      <td>...</td>\n",
       "      <td>64.000000</td>\n",
       "      <td>25.000000</td>\n",
       "      <td>1.750000</td>\n",
       "      <td>80.000000</td>\n",
       "      <td>2.700000</td>\n",
       "      <td>22.000000</td>\n",
       "      <td>0.914600</td>\n",
       "      <td>11.000000</td>\n",
       "      <td>0.537900</td>\n",
       "      <td>22.000000</td>\n",
       "    </tr>\n",
       "    <tr>\n",
       "      <th>75%</th>\n",
       "      <td>1.703167e+14</td>\n",
       "      <td>7.157000e+03</td>\n",
       "      <td>7.410250e+03</td>\n",
       "      <td>7.059000e+03</td>\n",
       "      <td>7.010000e+03</td>\n",
       "      <td>8.943500e+03</td>\n",
       "      <td>1.282850e+04</td>\n",
       "      <td>1.465750e+04</td>\n",
       "      <td>1.229800e+04</td>\n",
       "      <td>8.634000e+03</td>\n",
       "      <td>...</td>\n",
       "      <td>105.000000</td>\n",
       "      <td>42.000000</td>\n",
       "      <td>2.000000</td>\n",
       "      <td>96.500000</td>\n",
       "      <td>3.320000</td>\n",
       "      <td>37.000000</td>\n",
       "      <td>0.967700</td>\n",
       "      <td>23.000000</td>\n",
       "      <td>0.733000</td>\n",
       "      <td>37.000000</td>\n",
       "    </tr>\n",
       "    <tr>\n",
       "      <th>max</th>\n",
       "      <td>1.703198e+14</td>\n",
       "      <td>5.298534e+07</td>\n",
       "      <td>4.787976e+07</td>\n",
       "      <td>4.413646e+07</td>\n",
       "      <td>4.222055e+07</td>\n",
       "      <td>4.861925e+07</td>\n",
       "      <td>5.256908e+07</td>\n",
       "      <td>5.513983e+07</td>\n",
       "      <td>5.158912e+07</td>\n",
       "      <td>4.450386e+07</td>\n",
       "      <td>...</td>\n",
       "      <td>67388.000000</td>\n",
       "      <td>51372.000000</td>\n",
       "      <td>110.000000</td>\n",
       "      <td>158.000000</td>\n",
       "      <td>2061.920000</td>\n",
       "      <td>43222.000000</td>\n",
       "      <td>1.000000</td>\n",
       "      <td>28335.000000</td>\n",
       "      <td>1.000000</td>\n",
       "      <td>43222.000000</td>\n",
       "    </tr>\n",
       "  </tbody>\n",
       "</table>\n",
       "<p>8 rows × 68 columns</p>\n",
       "</div>"
      ],
      "text/plain": [
       "       CENSUS BLOCK  KWH JANUARY 2010  KWH FEBRUARY 2010  KWH MARCH 2010  \\\n",
       "count  6.697400e+04      6.618000e+04       6.618000e+04    6.618000e+04   \n",
       "mean   1.703140e+14      1.758159e+04       1.737651e+04    1.624212e+04   \n",
       "std    2.776392e+09      3.482508e+05       3.351910e+05    3.164713e+05   \n",
       "min    1.703101e+14      0.000000e+00       0.000000e+00    0.000000e+00   \n",
       "25%    1.703116e+14      1.370000e+03       1.613000e+03    1.586000e+03   \n",
       "50%    1.703133e+14      3.481500e+03       3.814000e+03    3.681500e+03   \n",
       "75%    1.703167e+14      7.157000e+03       7.410250e+03    7.059000e+03   \n",
       "max    1.703198e+14      5.298534e+07       4.787976e+07    4.413646e+07   \n",
       "\n",
       "       KWH APRIL 2010  KWH MAY 2010  KWH JUNE 2010  KWH JULY 2010  \\\n",
       "count    6.618000e+04  6.618000e+04   6.618000e+04   6.618000e+04   \n",
       "mean     1.595696e+04  1.906623e+04   2.300485e+04   2.482891e+04   \n",
       "std      3.118232e+05  3.634429e+05   3.988582e+05   4.135955e+05   \n",
       "min      0.000000e+00  0.000000e+00   0.000000e+00   0.000000e+00   \n",
       "25%      1.579000e+03  1.957000e+03   2.700000e+03   3.203000e+03   \n",
       "50%      3.646000e+03  4.528000e+03   6.295000e+03   7.389000e+03   \n",
       "75%      7.010000e+03  8.943500e+03   1.282850e+04   1.465750e+04   \n",
       "max      4.222055e+07  4.861925e+07   5.256908e+07   5.513983e+07   \n",
       "\n",
       "       KWH AUGUST 2010  KWH SEPTEMBER 2010  ...  TOTAL POPULATION  \\\n",
       "count     6.618000e+04        6.618000e+04  ...      67037.000000   \n",
       "mean      2.267526e+04        1.856410e+04  ...        105.180169   \n",
       "std       3.940989e+05        3.486212e+05  ...        801.339175   \n",
       "min       0.000000e+00        0.000000e+00  ...          0.000000   \n",
       "25%       2.837750e+03        2.027000e+03  ...         37.000000   \n",
       "50%       6.413500e+03        4.573000e+03  ...         64.000000   \n",
       "75%       1.229800e+04        8.634000e+03  ...        105.000000   \n",
       "max       5.158912e+07        4.450386e+07  ...      67388.000000   \n",
       "\n",
       "        TOTAL UNITS  AVERAGE STORIES  AVERAGE BUILDING AGE  AVERAGE HOUSESIZE  \\\n",
       "count  67037.000000     67051.000000          67051.000000       67037.000000   \n",
       "mean      48.375897         1.887592             71.593006           3.454721   \n",
       "std      426.941305         1.957215             34.168384          26.146208   \n",
       "min        0.000000         1.000000              0.000000           0.000000   \n",
       "25%       15.000000         1.140000             53.000000           2.150000   \n",
       "50%       25.000000         1.750000             80.000000           2.700000   \n",
       "75%       42.000000         2.000000             96.500000           3.320000   \n",
       "max    51372.000000       110.000000            158.000000        2061.920000   \n",
       "\n",
       "       OCCUPIED UNITS  OCCUPIED UNITS PERCENTAGE  \\\n",
       "count    67037.000000               64606.000000   \n",
       "mean        42.347495                   0.880365   \n",
       "std        371.024953                   0.130937   \n",
       "min          0.000000                   0.000000   \n",
       "25%         13.000000                   0.833200   \n",
       "50%         22.000000                   0.914600   \n",
       "75%         37.000000                   0.967700   \n",
       "max      43222.000000                   1.000000   \n",
       "\n",
       "       RENTER-OCCUPIED HOUSING UNITS  RENTER-OCCUPIED HOUSING PERCENTAGE  \\\n",
       "count                   67037.000000                        64433.000000   \n",
       "mean                       25.438952                            0.511679   \n",
       "std                       251.193571                            0.288431   \n",
       "min                         0.000000                            0.000000   \n",
       "25%                         3.000000                            0.286000   \n",
       "50%                        11.000000                            0.537900   \n",
       "75%                        23.000000                            0.733000   \n",
       "max                     28335.000000                            1.000000   \n",
       "\n",
       "       OCCUPIED HOUSING UNITS  \n",
       "count            67037.000000  \n",
       "mean                42.347495  \n",
       "std                371.024953  \n",
       "min                  0.000000  \n",
       "25%                 13.000000  \n",
       "50%                 22.000000  \n",
       "75%                 37.000000  \n",
       "max              43222.000000  \n",
       "\n",
       "[8 rows x 68 columns]"
      ]
     },
     "execution_count": 3,
     "metadata": {},
     "output_type": "execute_result"
    }
   ],
   "source": [
    "df.describe()"
   ]
  },
  {
   "cell_type": "code",
   "execution_count": 4,
   "metadata": {},
   "outputs": [
    {
     "data": {
      "text/plain": [
       "(KWH JANUARY 2010      1.299011\n",
       " KWH FEBRUARY 2010     1.299011\n",
       " KWH MARCH 2010        1.299011\n",
       " KWH APRIL 2010        1.299011\n",
       " KWH MAY 2010          1.299011\n",
       " KWH JUNE 2010         1.299011\n",
       " KWH JULY 2010         1.299011\n",
       " KWH AUGUST 2010       1.299011\n",
       " KWH SEPTEMBER 2010    1.299011\n",
       " KWH OCTOBER 2010      1.299011\n",
       " KWH NOVEMBER 2010     1.299011\n",
       " KWH DECEMBER 2010     1.299011\n",
       " dtype: float64,\n",
       " 1.2990112004295238)"
      ]
     },
     "execution_count": 4,
     "metadata": {},
     "output_type": "execute_result"
    }
   ],
   "source": [
    "missing_energy = df[DataLoader(df).energy_cols].isna().sum()\n",
    "missing_energy_per = missing_energy * 100 / len(df)\n",
    "missing_energy_per, missing_energy_per.mean()"
   ]
  },
  {
   "cell_type": "code",
   "execution_count": 5,
   "metadata": {},
   "outputs": [
    {
     "data": {
      "text/plain": [
       "(THERM JANUARY 2010      3.325827\n",
       " THERM FEBRUARY 2010     6.311614\n",
       " THERM MARCH 2010        2.210258\n",
       " THERM APRIL 2010        2.348958\n",
       " THERM MAY 2010          2.769534\n",
       " THERM JUNE 2010         2.635307\n",
       " THERM JULY 2010         2.714352\n",
       " THERM AUGUST 2010       2.845595\n",
       " THERM SEPTEMBER 2010    3.403380\n",
       " THERM OCTOBER 2010      2.568194\n",
       " THERM NOVEMBER 2010     2.325096\n",
       " THERM DECEMBER 2010     2.302725\n",
       " dtype: float64,\n",
       " 2.9800698970435437)"
      ]
     },
     "execution_count": 5,
     "metadata": {},
     "output_type": "execute_result"
    }
   ],
   "source": [
    "missing_gas = df[DataLoader(df).gas_cols].isna().sum()\n",
    "missing_gas_per = missing_gas * 100 / len(df)\n",
    "missing_gas_per, missing_gas_per.mean()"
   ]
  },
  {
   "cell_type": "markdown",
   "metadata": {},
   "source": [
    "## Sustituir categóricos"
   ]
  },
  {
   "cell_type": "markdown",
   "metadata": {},
   "source": [
    "Existen ciertas columnas que mezclan valores numéricos y categóricos, como *ELECTRICITY ACCOUNTS* y *GAS ACCOUNTS*, donde se muestra el número de contadores de energía o gas de cada zona. Se pasarán los valores categóricos a numéricos, fijando arbitrariamente un valor único para estas filas."
   ]
  },
  {
   "cell_type": "markdown",
   "metadata": {},
   "source": [
    "Sustituimos todos los valores con *Less than 4* en la columna *ELECTRICITY ACCOUNTS* por 3."
   ]
  },
  {
   "cell_type": "code",
   "execution_count": 6,
   "metadata": {},
   "outputs": [
    {
     "data": {
      "text/plain": [
       "[<re.Match object; span=(0, 11), match='Less than 4'>]"
      ]
     },
     "execution_count": 6,
     "metadata": {},
     "output_type": "execute_result"
    }
   ],
   "source": [
    "acc = df['ELECTRICITY ACCOUNTS'].unique()\n",
    "res_match = [re.match(r\"\\D.*\", e) for e in acc if e is not np.nan]\n",
    "res_match = [e for e in res_match if e is not None]\n",
    "res_match"
   ]
  },
  {
   "cell_type": "code",
   "execution_count": 7,
   "metadata": {},
   "outputs": [],
   "source": [
    "df['ELECTRICITY ACCOUNTS'] = df['ELECTRICITY ACCOUNTS'].str.replace('Less than 4', '3')"
   ]
  },
  {
   "cell_type": "code",
   "execution_count": 8,
   "metadata": {},
   "outputs": [],
   "source": [
    "df['ELECTRICITY ACCOUNTS'] = pd.to_numeric(df['ELECTRICITY ACCOUNTS'])"
   ]
  },
  {
   "cell_type": "code",
   "execution_count": 9,
   "metadata": {},
   "outputs": [
    {
     "data": {
      "text/plain": [
       "0         NaN\n",
       "1         8.0\n",
       "2         NaN\n",
       "3         NaN\n",
       "4         NaN\n",
       "         ... \n",
       "67046     6.0\n",
       "67047     9.0\n",
       "67048     7.0\n",
       "67049     7.0\n",
       "67050    12.0\n",
       "Name: ELECTRICITY ACCOUNTS, Length: 67051, dtype: float64"
      ]
     },
     "execution_count": 9,
     "metadata": {},
     "output_type": "execute_result"
    }
   ],
   "source": [
    "df['ELECTRICITY ACCOUNTS']"
   ]
  },
  {
   "cell_type": "markdown",
   "metadata": {},
   "source": [
    "Sustituimos todos los valores con *Less than 4* en la columna *GAS ACCOUNTS*"
   ]
  },
  {
   "cell_type": "code",
   "execution_count": 10,
   "metadata": {},
   "outputs": [
    {
     "data": {
      "text/plain": [
       "[<re.Match object; span=(0, 11), match='Less than 4'>]"
      ]
     },
     "execution_count": 10,
     "metadata": {},
     "output_type": "execute_result"
    }
   ],
   "source": [
    "acc = df['GAS ACCOUNTS'].unique()\n",
    "res_match = [re.match(r\"\\D.*\", e) for e in acc if e is not np.nan]\n",
    "res_match = [e for e in res_match if e is not None]\n",
    "res_match"
   ]
  },
  {
   "cell_type": "code",
   "execution_count": 11,
   "metadata": {},
   "outputs": [],
   "source": [
    "df['GAS ACCOUNTS'] = df['GAS ACCOUNTS'].str.replace('Less than 4', '3')"
   ]
  },
  {
   "cell_type": "code",
   "execution_count": 12,
   "metadata": {},
   "outputs": [],
   "source": [
    "df['GAS ACCOUNTS'] = pd.to_numeric(df['GAS ACCOUNTS'])"
   ]
  },
  {
   "cell_type": "code",
   "execution_count": 13,
   "metadata": {},
   "outputs": [
    {
     "data": {
      "text/plain": [
       "0        11.0\n",
       "1         NaN\n",
       "2         4.0\n",
       "3         3.0\n",
       "4         3.0\n",
       "         ... \n",
       "67046     9.0\n",
       "67047     8.0\n",
       "67048     5.0\n",
       "67049     5.0\n",
       "67050    13.0\n",
       "Name: GAS ACCOUNTS, Length: 67051, dtype: float64"
      ]
     },
     "execution_count": 13,
     "metadata": {},
     "output_type": "execute_result"
    }
   ],
   "source": [
    "df['GAS ACCOUNTS']"
   ]
  },
  {
   "cell_type": "markdown",
   "metadata": {},
   "source": [
    "Ya se tienen todos los datos con los tipos de datos acorde a la información que aportan. A continuación salvamos el dataset en un fichero csv nuevo. "
   ]
  },
  {
   "cell_type": "code",
   "execution_count": 14,
   "metadata": {},
   "outputs": [
    {
     "name": "stdout",
     "output_type": "stream",
     "text": [
      "<class 'pandas.core.frame.DataFrame'>\n",
      "RangeIndex: 67051 entries, 0 to 67050\n",
      "Data columns (total 73 columns):\n",
      " #   Column                               Non-Null Count  Dtype  \n",
      "---  ------                               --------------  -----  \n",
      " 0   COMMUNITY AREA NAME                  67051 non-null  object \n",
      " 1   CENSUS BLOCK                         66974 non-null  float64\n",
      " 2   BUILDING TYPE                        66974 non-null  object \n",
      " 3   BUILDING_SUBTYPE                     66974 non-null  object \n",
      " 4   KWH JANUARY 2010                     66180 non-null  float64\n",
      " 5   KWH FEBRUARY 2010                    66180 non-null  float64\n",
      " 6   KWH MARCH 2010                       66180 non-null  float64\n",
      " 7   KWH APRIL 2010                       66180 non-null  float64\n",
      " 8   KWH MAY 2010                         66180 non-null  float64\n",
      " 9   KWH JUNE 2010                        66180 non-null  float64\n",
      " 10  KWH JULY 2010                        66180 non-null  float64\n",
      " 11  KWH AUGUST 2010                      66180 non-null  float64\n",
      " 12  KWH SEPTEMBER 2010                   66180 non-null  float64\n",
      " 13  KWH OCTOBER 2010                     66180 non-null  float64\n",
      " 14  KWH NOVEMBER 2010                    66180 non-null  float64\n",
      " 15  KWH DECEMBER 2010                    66180 non-null  float64\n",
      " 16  TOTAL KWH                            66180 non-null  float64\n",
      " 17  ELECTRICITY ACCOUNTS                 66180 non-null  float64\n",
      " 18  ZERO KWH ACCOUNTS                    67051 non-null  int64  \n",
      " 19  THERM JANUARY 2010                   64821 non-null  float64\n",
      " 20  THERM FEBRUARY 2010                  62819 non-null  float64\n",
      " 21  THERM MARCH 2010                     65569 non-null  float64\n",
      " 22  THERM APRIL 2010                     65476 non-null  float64\n",
      " 23  THERM MAY 2010                       65194 non-null  float64\n",
      " 24  THERM JUNE 2010                      65284 non-null  float64\n",
      " 25  THERM JULY 2010                      65231 non-null  float64\n",
      " 26  THERM AUGUST 2010                    65143 non-null  float64\n",
      " 27  THERM SEPTEMBER 2010                 64769 non-null  float64\n",
      " 28  THERM OCTOBER 2010                   65329 non-null  float64\n",
      " 29  THERM NOVEMBER 2010                  65492 non-null  float64\n",
      " 30  THERM DECEMBER 2010                  65507 non-null  float64\n",
      " 31  TOTAL THERMS                         65755 non-null  float64\n",
      " 32  GAS ACCOUNTS                         65755 non-null  float64\n",
      " 33  KWH TOTAL SQFT                       65901 non-null  float64\n",
      " 34  THERMS TOTAL SQFT                    65378 non-null  float64\n",
      " 35  KWH MEAN 2010                        66180 non-null  float64\n",
      " 36  KWH STANDARD DEVIATION 2010          57095 non-null  float64\n",
      " 37  KWH MINIMUM 2010                     66180 non-null  float64\n",
      " 38  KWH 1ST QUARTILE 2010                66180 non-null  float64\n",
      " 39  KWH 2ND QUARTILE 2010                66180 non-null  float64\n",
      " 40  KWH 3RD QUARTILE 2010                66180 non-null  float64\n",
      " 41  KWH MAXIMUM 2010                     66180 non-null  float64\n",
      " 42  KWH SQFT MEAN 2010                   65901 non-null  float64\n",
      " 43  KWH SQFT STANDARD DEVIATION 2010     51666 non-null  float64\n",
      " 44  KWH SQFT MINIMUM 2010                65901 non-null  float64\n",
      " 45  KWH SQFT 1ST QUARTILE 2010           65901 non-null  float64\n",
      " 46  KWH SQFT 2ND QUARTILE 2010           65901 non-null  float64\n",
      " 47  KWH SQFT 3RD QUARTILE 2010           65901 non-null  float64\n",
      " 48  KWH SQFT MAXIMUM 2010                65901 non-null  float64\n",
      " 49  THERM MEAN 2010                      65755 non-null  float64\n",
      " 50  THERM STANDARD DEVIATION 2010        56821 non-null  float64\n",
      " 51  THERM MINIMUM 2010                   65755 non-null  float64\n",
      " 52  THERM 1ST QUARTILE 2010              65755 non-null  float64\n",
      " 53  THERM 2ND QUARTILE 2010              65755 non-null  float64\n",
      " 54  THERM 3RD QUARTILE 2010              65755 non-null  float64\n",
      " 55  THERM MAXIMUM 2010                   65755 non-null  float64\n",
      " 56  THERMS SQFT MEAN 2010                65378 non-null  float64\n",
      " 57  THERMS SQFT STANDARD DEVIATION 2010  51367 non-null  float64\n",
      " 58  THERMS SQFT MINIMUM 2010             65378 non-null  float64\n",
      " 59  THERMS SQFT 1ST QUARTILE 2010        65378 non-null  float64\n",
      " 60  THERMS SQFT 2ND QUARTILE 2010        65378 non-null  float64\n",
      " 61  THERMS SQFT 3RD QUARTILE 2010        65378 non-null  float64\n",
      " 62  THERMS SQFT MAXIMUM 2010             65378 non-null  float64\n",
      " 63  TOTAL POPULATION                     67037 non-null  float64\n",
      " 64  TOTAL UNITS                          67037 non-null  float64\n",
      " 65  AVERAGE STORIES                      67051 non-null  float64\n",
      " 66  AVERAGE BUILDING AGE                 67051 non-null  float64\n",
      " 67  AVERAGE HOUSESIZE                    67037 non-null  float64\n",
      " 68  OCCUPIED UNITS                       67037 non-null  float64\n",
      " 69  OCCUPIED UNITS PERCENTAGE            64606 non-null  float64\n",
      " 70  RENTER-OCCUPIED HOUSING UNITS        67037 non-null  float64\n",
      " 71  RENTER-OCCUPIED HOUSING PERCENTAGE   64433 non-null  float64\n",
      " 72  OCCUPIED HOUSING UNITS               67037 non-null  float64\n",
      "dtypes: float64(69), int64(1), object(3)\n",
      "memory usage: 37.3+ MB\n"
     ]
    }
   ],
   "source": [
    "df.info()"
   ]
  },
  {
   "cell_type": "code",
   "execution_count": 15,
   "metadata": {},
   "outputs": [],
   "source": [
    "df.to_csv(\"energy-usage-2010-clean.csv\", index=False)"
   ]
  }
 ],
 "metadata": {
  "kernelspec": {
   "display_name": "Python 3",
   "language": "python",
   "name": "python3"
  },
  "language_info": {
   "codemirror_mode": {
    "name": "ipython",
    "version": 3
   },
   "file_extension": ".py",
   "mimetype": "text/x-python",
   "name": "python",
   "nbconvert_exporter": "python",
   "pygments_lexer": "ipython3",
   "version": "3.8.5"
  }
 },
 "nbformat": 4,
 "nbformat_minor": 4
}
