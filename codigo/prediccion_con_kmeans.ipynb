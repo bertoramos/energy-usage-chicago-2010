{
 "cells": [
  {
   "cell_type": "markdown",
   "metadata": {},
   "source": [
    "## Predicción de tipo de comunidad a partir del consumo energético utilizando *k-Means*"
   ]
  },
  {
   "cell_type": "markdown",
   "metadata": {},
   "source": [
    "Alberto Ramos Sánchez\n",
    "\n",
    "08/01/2021"
   ]
  },
  {
   "cell_type": "markdown",
   "metadata": {},
   "source": [
    "### Contenido\n",
    "\n",
    "* [Preparación de los datos](#Preparación-de-los-datos)\n",
    "* [A1: Predicción utilizando consumo eléctrico](#A1:-Predicción-utilizando-consumo-eléctrico)\n",
    "    * [A1.1: Predicción sin balancear los datos](#A1.1:-Predicción-sin-balancear-los-datos)\n",
    "    * [A1.2: Predicción balanceando los datos](#A1.2:-Predicción-balanceando-los-datos)\n",
    "* [A2: Predicción utilizando consumo de gas](#A2:-Predicción-utilizando-consumo-de-gas)\n",
    "    * [A2.1: Predicción sin balancear los datos](#A2.1:-Predicción-sin-balancear-los-datos)\n",
    "    * [A2.2: Predicción balanceando los datos](#A2.2:-Predicción-balanceando-los-datos)"
   ]
  },
  {
   "cell_type": "code",
   "execution_count": 1,
   "metadata": {},
   "outputs": [],
   "source": [
    "import pandas as pd\n",
    "import numpy as np\n",
    "\n",
    "from sklearn.cluster import KMeans\n",
    "from sklearn.metrics import accuracy_score\n",
    "from sklearn import preprocessing\n",
    "\n",
    "from dataloader import DataLoader\n",
    "\n",
    "seed_val = 42\n",
    "np.random.seed(seed_val)\n",
    "import random\n",
    "random.seed(seed_val)"
   ]
  },
  {
   "cell_type": "code",
   "execution_count": 2,
   "metadata": {},
   "outputs": [
    {
     "data": {
      "text/html": [
       "<div>\n",
       "<style scoped>\n",
       "    .dataframe tbody tr th:only-of-type {\n",
       "        vertical-align: middle;\n",
       "    }\n",
       "\n",
       "    .dataframe tbody tr th {\n",
       "        vertical-align: top;\n",
       "    }\n",
       "\n",
       "    .dataframe thead th {\n",
       "        text-align: right;\n",
       "    }\n",
       "</style>\n",
       "<table border=\"1\" class=\"dataframe\">\n",
       "  <thead>\n",
       "    <tr style=\"text-align: right;\">\n",
       "      <th></th>\n",
       "      <th>COMMUNITY AREA NAME</th>\n",
       "      <th>CENSUS BLOCK</th>\n",
       "      <th>BUILDING TYPE</th>\n",
       "      <th>BUILDING_SUBTYPE</th>\n",
       "      <th>KWH JANUARY 2010</th>\n",
       "      <th>KWH FEBRUARY 2010</th>\n",
       "      <th>KWH MARCH 2010</th>\n",
       "      <th>KWH APRIL 2010</th>\n",
       "      <th>KWH MAY 2010</th>\n",
       "      <th>KWH JUNE 2010</th>\n",
       "      <th>...</th>\n",
       "      <th>TOTAL POPULATION</th>\n",
       "      <th>TOTAL UNITS</th>\n",
       "      <th>AVERAGE STORIES</th>\n",
       "      <th>AVERAGE BUILDING AGE</th>\n",
       "      <th>AVERAGE HOUSESIZE</th>\n",
       "      <th>OCCUPIED UNITS</th>\n",
       "      <th>OCCUPIED UNITS PERCENTAGE</th>\n",
       "      <th>RENTER-OCCUPIED HOUSING UNITS</th>\n",
       "      <th>RENTER-OCCUPIED HOUSING PERCENTAGE</th>\n",
       "      <th>OCCUPIED HOUSING UNITS</th>\n",
       "    </tr>\n",
       "  </thead>\n",
       "  <tbody>\n",
       "    <tr>\n",
       "      <th>0</th>\n",
       "      <td>Archer Heights</td>\n",
       "      <td>1.703157e+14</td>\n",
       "      <td>Residential</td>\n",
       "      <td>Multi &lt; 7</td>\n",
       "      <td>NaN</td>\n",
       "      <td>NaN</td>\n",
       "      <td>NaN</td>\n",
       "      <td>NaN</td>\n",
       "      <td>NaN</td>\n",
       "      <td>NaN</td>\n",
       "      <td>...</td>\n",
       "      <td>89.0</td>\n",
       "      <td>24.0</td>\n",
       "      <td>2.00</td>\n",
       "      <td>71.33</td>\n",
       "      <td>3.87</td>\n",
       "      <td>23.0</td>\n",
       "      <td>0.9582</td>\n",
       "      <td>9.0</td>\n",
       "      <td>0.3910</td>\n",
       "      <td>23.0</td>\n",
       "    </tr>\n",
       "    <tr>\n",
       "      <th>1</th>\n",
       "      <td>Ashburn</td>\n",
       "      <td>1.703170e+14</td>\n",
       "      <td>Residential</td>\n",
       "      <td>Multi 7+</td>\n",
       "      <td>7334.0</td>\n",
       "      <td>7741.0</td>\n",
       "      <td>4214.0</td>\n",
       "      <td>4284.0</td>\n",
       "      <td>2518.0</td>\n",
       "      <td>4273.0</td>\n",
       "      <td>...</td>\n",
       "      <td>112.0</td>\n",
       "      <td>67.0</td>\n",
       "      <td>2.00</td>\n",
       "      <td>41.00</td>\n",
       "      <td>1.81</td>\n",
       "      <td>62.0</td>\n",
       "      <td>0.9254</td>\n",
       "      <td>50.0</td>\n",
       "      <td>0.8059</td>\n",
       "      <td>62.0</td>\n",
       "    </tr>\n",
       "    <tr>\n",
       "      <th>2</th>\n",
       "      <td>Auburn Gresham</td>\n",
       "      <td>1.703171e+14</td>\n",
       "      <td>Commercial</td>\n",
       "      <td>Multi &lt; 7</td>\n",
       "      <td>NaN</td>\n",
       "      <td>NaN</td>\n",
       "      <td>NaN</td>\n",
       "      <td>NaN</td>\n",
       "      <td>NaN</td>\n",
       "      <td>NaN</td>\n",
       "      <td>...</td>\n",
       "      <td>102.0</td>\n",
       "      <td>48.0</td>\n",
       "      <td>3.00</td>\n",
       "      <td>86.00</td>\n",
       "      <td>3.00</td>\n",
       "      <td>34.0</td>\n",
       "      <td>0.7082</td>\n",
       "      <td>23.0</td>\n",
       "      <td>0.6759</td>\n",
       "      <td>34.0</td>\n",
       "    </tr>\n",
       "    <tr>\n",
       "      <th>3</th>\n",
       "      <td>Austin</td>\n",
       "      <td>1.703125e+14</td>\n",
       "      <td>Commercial</td>\n",
       "      <td>Multi &lt; 7</td>\n",
       "      <td>NaN</td>\n",
       "      <td>NaN</td>\n",
       "      <td>NaN</td>\n",
       "      <td>NaN</td>\n",
       "      <td>NaN</td>\n",
       "      <td>NaN</td>\n",
       "      <td>...</td>\n",
       "      <td>121.0</td>\n",
       "      <td>56.0</td>\n",
       "      <td>2.00</td>\n",
       "      <td>84.00</td>\n",
       "      <td>2.95</td>\n",
       "      <td>41.0</td>\n",
       "      <td>0.7321</td>\n",
       "      <td>32.0</td>\n",
       "      <td>0.7800</td>\n",
       "      <td>41.0</td>\n",
       "    </tr>\n",
       "    <tr>\n",
       "      <th>4</th>\n",
       "      <td>Austin</td>\n",
       "      <td>1.703125e+14</td>\n",
       "      <td>Commercial</td>\n",
       "      <td>Multi &lt; 7</td>\n",
       "      <td>NaN</td>\n",
       "      <td>NaN</td>\n",
       "      <td>NaN</td>\n",
       "      <td>NaN</td>\n",
       "      <td>NaN</td>\n",
       "      <td>NaN</td>\n",
       "      <td>...</td>\n",
       "      <td>62.0</td>\n",
       "      <td>23.0</td>\n",
       "      <td>2.00</td>\n",
       "      <td>85.00</td>\n",
       "      <td>3.26</td>\n",
       "      <td>19.0</td>\n",
       "      <td>0.8261</td>\n",
       "      <td>11.0</td>\n",
       "      <td>0.5790</td>\n",
       "      <td>19.0</td>\n",
       "    </tr>\n",
       "    <tr>\n",
       "      <th>...</th>\n",
       "      <td>...</td>\n",
       "      <td>...</td>\n",
       "      <td>...</td>\n",
       "      <td>...</td>\n",
       "      <td>...</td>\n",
       "      <td>...</td>\n",
       "      <td>...</td>\n",
       "      <td>...</td>\n",
       "      <td>...</td>\n",
       "      <td>...</td>\n",
       "      <td>...</td>\n",
       "      <td>...</td>\n",
       "      <td>...</td>\n",
       "      <td>...</td>\n",
       "      <td>...</td>\n",
       "      <td>...</td>\n",
       "      <td>...</td>\n",
       "      <td>...</td>\n",
       "      <td>...</td>\n",
       "      <td>...</td>\n",
       "      <td>...</td>\n",
       "    </tr>\n",
       "    <tr>\n",
       "      <th>67046</th>\n",
       "      <td>Woodlawn</td>\n",
       "      <td>1.703184e+14</td>\n",
       "      <td>Residential</td>\n",
       "      <td>Single Family</td>\n",
       "      <td>2705.0</td>\n",
       "      <td>1318.0</td>\n",
       "      <td>1582.0</td>\n",
       "      <td>1465.0</td>\n",
       "      <td>1494.0</td>\n",
       "      <td>2990.0</td>\n",
       "      <td>...</td>\n",
       "      <td>116.0</td>\n",
       "      <td>55.0</td>\n",
       "      <td>1.00</td>\n",
       "      <td>0.00</td>\n",
       "      <td>3.14</td>\n",
       "      <td>37.0</td>\n",
       "      <td>0.6727</td>\n",
       "      <td>26.0</td>\n",
       "      <td>0.7030</td>\n",
       "      <td>37.0</td>\n",
       "    </tr>\n",
       "    <tr>\n",
       "      <th>67047</th>\n",
       "      <td>Woodlawn</td>\n",
       "      <td>1.703184e+14</td>\n",
       "      <td>Commercial</td>\n",
       "      <td>Multi &lt; 7</td>\n",
       "      <td>1005.0</td>\n",
       "      <td>1760.0</td>\n",
       "      <td>1521.0</td>\n",
       "      <td>1832.0</td>\n",
       "      <td>2272.0</td>\n",
       "      <td>2361.0</td>\n",
       "      <td>...</td>\n",
       "      <td>31.0</td>\n",
       "      <td>24.0</td>\n",
       "      <td>3.00</td>\n",
       "      <td>104.50</td>\n",
       "      <td>2.07</td>\n",
       "      <td>15.0</td>\n",
       "      <td>0.6250</td>\n",
       "      <td>13.0</td>\n",
       "      <td>0.8670</td>\n",
       "      <td>15.0</td>\n",
       "    </tr>\n",
       "    <tr>\n",
       "      <th>67048</th>\n",
       "      <td>Woodlawn</td>\n",
       "      <td>1.703184e+14</td>\n",
       "      <td>Residential</td>\n",
       "      <td>Multi &lt; 7</td>\n",
       "      <td>3567.0</td>\n",
       "      <td>3031.0</td>\n",
       "      <td>2582.0</td>\n",
       "      <td>2295.0</td>\n",
       "      <td>7902.0</td>\n",
       "      <td>4987.0</td>\n",
       "      <td>...</td>\n",
       "      <td>31.0</td>\n",
       "      <td>24.0</td>\n",
       "      <td>2.33</td>\n",
       "      <td>100.67</td>\n",
       "      <td>2.07</td>\n",
       "      <td>15.0</td>\n",
       "      <td>0.6250</td>\n",
       "      <td>13.0</td>\n",
       "      <td>0.8670</td>\n",
       "      <td>15.0</td>\n",
       "    </tr>\n",
       "    <tr>\n",
       "      <th>67049</th>\n",
       "      <td>Woodlawn</td>\n",
       "      <td>1.703184e+14</td>\n",
       "      <td>Residential</td>\n",
       "      <td>Single Family</td>\n",
       "      <td>1208.0</td>\n",
       "      <td>1055.0</td>\n",
       "      <td>1008.0</td>\n",
       "      <td>1109.0</td>\n",
       "      <td>1591.0</td>\n",
       "      <td>1367.0</td>\n",
       "      <td>...</td>\n",
       "      <td>0.0</td>\n",
       "      <td>0.0</td>\n",
       "      <td>1.00</td>\n",
       "      <td>0.00</td>\n",
       "      <td>0.00</td>\n",
       "      <td>0.0</td>\n",
       "      <td>NaN</td>\n",
       "      <td>0.0</td>\n",
       "      <td>NaN</td>\n",
       "      <td>0.0</td>\n",
       "    </tr>\n",
       "    <tr>\n",
       "      <th>67050</th>\n",
       "      <td>Woodlawn</td>\n",
       "      <td>1.703184e+14</td>\n",
       "      <td>Residential</td>\n",
       "      <td>Multi &lt; 7</td>\n",
       "      <td>2717.0</td>\n",
       "      <td>3057.0</td>\n",
       "      <td>2695.0</td>\n",
       "      <td>3793.0</td>\n",
       "      <td>4237.0</td>\n",
       "      <td>5383.0</td>\n",
       "      <td>...</td>\n",
       "      <td>77.0</td>\n",
       "      <td>49.0</td>\n",
       "      <td>2.00</td>\n",
       "      <td>79.40</td>\n",
       "      <td>2.57</td>\n",
       "      <td>30.0</td>\n",
       "      <td>0.6122</td>\n",
       "      <td>28.0</td>\n",
       "      <td>0.9329</td>\n",
       "      <td>30.0</td>\n",
       "    </tr>\n",
       "  </tbody>\n",
       "</table>\n",
       "<p>67051 rows × 73 columns</p>\n",
       "</div>"
      ],
      "text/plain": [
       "      COMMUNITY AREA NAME  CENSUS BLOCK BUILDING TYPE BUILDING_SUBTYPE  \\\n",
       "0          Archer Heights  1.703157e+14   Residential        Multi < 7   \n",
       "1                 Ashburn  1.703170e+14   Residential         Multi 7+   \n",
       "2          Auburn Gresham  1.703171e+14    Commercial        Multi < 7   \n",
       "3                  Austin  1.703125e+14    Commercial        Multi < 7   \n",
       "4                  Austin  1.703125e+14    Commercial        Multi < 7   \n",
       "...                   ...           ...           ...              ...   \n",
       "67046            Woodlawn  1.703184e+14   Residential    Single Family   \n",
       "67047            Woodlawn  1.703184e+14    Commercial        Multi < 7   \n",
       "67048            Woodlawn  1.703184e+14   Residential        Multi < 7   \n",
       "67049            Woodlawn  1.703184e+14   Residential    Single Family   \n",
       "67050            Woodlawn  1.703184e+14   Residential        Multi < 7   \n",
       "\n",
       "       KWH JANUARY 2010  KWH FEBRUARY 2010  KWH MARCH 2010  KWH APRIL 2010  \\\n",
       "0                   NaN                NaN             NaN             NaN   \n",
       "1                7334.0             7741.0          4214.0          4284.0   \n",
       "2                   NaN                NaN             NaN             NaN   \n",
       "3                   NaN                NaN             NaN             NaN   \n",
       "4                   NaN                NaN             NaN             NaN   \n",
       "...                 ...                ...             ...             ...   \n",
       "67046            2705.0             1318.0          1582.0          1465.0   \n",
       "67047            1005.0             1760.0          1521.0          1832.0   \n",
       "67048            3567.0             3031.0          2582.0          2295.0   \n",
       "67049            1208.0             1055.0          1008.0          1109.0   \n",
       "67050            2717.0             3057.0          2695.0          3793.0   \n",
       "\n",
       "       KWH MAY 2010  KWH JUNE 2010  ...  TOTAL POPULATION  TOTAL UNITS  \\\n",
       "0               NaN            NaN  ...              89.0         24.0   \n",
       "1            2518.0         4273.0  ...             112.0         67.0   \n",
       "2               NaN            NaN  ...             102.0         48.0   \n",
       "3               NaN            NaN  ...             121.0         56.0   \n",
       "4               NaN            NaN  ...              62.0         23.0   \n",
       "...             ...            ...  ...               ...          ...   \n",
       "67046        1494.0         2990.0  ...             116.0         55.0   \n",
       "67047        2272.0         2361.0  ...              31.0         24.0   \n",
       "67048        7902.0         4987.0  ...              31.0         24.0   \n",
       "67049        1591.0         1367.0  ...               0.0          0.0   \n",
       "67050        4237.0         5383.0  ...              77.0         49.0   \n",
       "\n",
       "       AVERAGE STORIES  AVERAGE BUILDING AGE  AVERAGE HOUSESIZE  \\\n",
       "0                 2.00                 71.33               3.87   \n",
       "1                 2.00                 41.00               1.81   \n",
       "2                 3.00                 86.00               3.00   \n",
       "3                 2.00                 84.00               2.95   \n",
       "4                 2.00                 85.00               3.26   \n",
       "...                ...                   ...                ...   \n",
       "67046             1.00                  0.00               3.14   \n",
       "67047             3.00                104.50               2.07   \n",
       "67048             2.33                100.67               2.07   \n",
       "67049             1.00                  0.00               0.00   \n",
       "67050             2.00                 79.40               2.57   \n",
       "\n",
       "       OCCUPIED UNITS  OCCUPIED UNITS PERCENTAGE  \\\n",
       "0                23.0                     0.9582   \n",
       "1                62.0                     0.9254   \n",
       "2                34.0                     0.7082   \n",
       "3                41.0                     0.7321   \n",
       "4                19.0                     0.8261   \n",
       "...               ...                        ...   \n",
       "67046            37.0                     0.6727   \n",
       "67047            15.0                     0.6250   \n",
       "67048            15.0                     0.6250   \n",
       "67049             0.0                        NaN   \n",
       "67050            30.0                     0.6122   \n",
       "\n",
       "       RENTER-OCCUPIED HOUSING UNITS  RENTER-OCCUPIED HOUSING PERCENTAGE  \\\n",
       "0                                9.0                              0.3910   \n",
       "1                               50.0                              0.8059   \n",
       "2                               23.0                              0.6759   \n",
       "3                               32.0                              0.7800   \n",
       "4                               11.0                              0.5790   \n",
       "...                              ...                                 ...   \n",
       "67046                           26.0                              0.7030   \n",
       "67047                           13.0                              0.8670   \n",
       "67048                           13.0                              0.8670   \n",
       "67049                            0.0                                 NaN   \n",
       "67050                           28.0                              0.9329   \n",
       "\n",
       "       OCCUPIED HOUSING UNITS  \n",
       "0                        23.0  \n",
       "1                        62.0  \n",
       "2                        34.0  \n",
       "3                        41.0  \n",
       "4                        19.0  \n",
       "...                       ...  \n",
       "67046                    37.0  \n",
       "67047                    15.0  \n",
       "67048                    15.0  \n",
       "67049                     0.0  \n",
       "67050                    30.0  \n",
       "\n",
       "[67051 rows x 73 columns]"
      ]
     },
     "execution_count": 2,
     "metadata": {},
     "output_type": "execute_result"
    }
   ],
   "source": [
    "df = pd.read_csv('energy-usage-2010-clean.csv')\n",
    "df"
   ]
  },
  {
   "cell_type": "code",
   "execution_count": 3,
   "metadata": {},
   "outputs": [],
   "source": [
    "dl = DataLoader(df)"
   ]
  },
  {
   "cell_type": "code",
   "execution_count": 4,
   "metadata": {},
   "outputs": [],
   "source": [
    "dataset_energy = dl[dl.energy_cols + ['BUILDING TYPE']]\n",
    "dataset_gas = dl[dl.gas_cols + ['BUILDING TYPE']]"
   ]
  },
  {
   "cell_type": "markdown",
   "metadata": {},
   "source": [
    "Tenemos 3 clases: residencial, comercial e industrial"
   ]
  },
  {
   "cell_type": "code",
   "execution_count": 5,
   "metadata": {},
   "outputs": [
    {
     "data": {
      "text/plain": [
       "['Residential', 'Commercial', 'Industrial']"
      ]
     },
     "execution_count": 5,
     "metadata": {},
     "output_type": "execute_result"
    }
   ],
   "source": [
    "dataset_energy['BUILDING TYPE'].unique().tolist()"
   ]
  },
  {
   "cell_type": "code",
   "execution_count": 6,
   "metadata": {},
   "outputs": [
    {
     "data": {
      "text/plain": [
       "['Residential', 'Commercial', 'Industrial']"
      ]
     },
     "execution_count": 6,
     "metadata": {},
     "output_type": "execute_result"
    }
   ],
   "source": [
    "dataset_gas['BUILDING TYPE'].unique().tolist()"
   ]
  },
  {
   "cell_type": "code",
   "execution_count": 7,
   "metadata": {},
   "outputs": [
    {
     "data": {
      "text/plain": [
       "BUILDING TYPE\n",
       "Commercial     16630\n",
       "Industrial        26\n",
       "Residential    49447\n",
       "Name: KWH JANUARY 2010, dtype: int64"
      ]
     },
     "execution_count": 7,
     "metadata": {},
     "output_type": "execute_result"
    }
   ],
   "source": [
    "dataset_energy.groupby(['BUILDING TYPE']).count()['KWH JANUARY 2010']"
   ]
  },
  {
   "cell_type": "code",
   "execution_count": 8,
   "metadata": {},
   "outputs": [
    {
     "data": {
      "text/plain": [
       "BUILDING TYPE\n",
       "Commercial     14505\n",
       "Industrial        31\n",
       "Residential    46200\n",
       "Name: THERM JANUARY 2010, dtype: int64"
      ]
     },
     "execution_count": 8,
     "metadata": {},
     "output_type": "execute_result"
    }
   ],
   "source": [
    "dataset_gas.groupby(['BUILDING TYPE']).count()['THERM JANUARY 2010']"
   ]
  },
  {
   "cell_type": "markdown",
   "metadata": {},
   "source": [
    "### Preparación de los datos"
   ]
  },
  {
   "cell_type": "code",
   "execution_count": 9,
   "metadata": {},
   "outputs": [],
   "source": [
    "dataset_energy_X = dataset_energy[dl.energy_cols]\n",
    "dataset_energy_y = dataset_energy['BUILDING TYPE']"
   ]
  },
  {
   "cell_type": "code",
   "execution_count": 10,
   "metadata": {},
   "outputs": [],
   "source": [
    "dataset_gas_X = dataset_gas[dl.gas_cols]\n",
    "dataset_gas_y = dataset_gas['BUILDING TYPE']"
   ]
  },
  {
   "cell_type": "markdown",
   "metadata": {},
   "source": [
    "Dividimos los datos en entrenamiento y test."
   ]
  },
  {
   "cell_type": "code",
   "execution_count": 11,
   "metadata": {},
   "outputs": [],
   "source": [
    "dataset_energy_X_train = dataset_energy_X.sample(int(len(dataset_energy_X)*0.9))\n",
    "dataset_energy_X_test = dataset_energy_X.drop(dataset_energy_X_train.index)\n",
    "\n",
    "dataset_energy_y_train = dataset_energy_y[dataset_energy_X_train.index]\n",
    "dataset_energy_y_test = dataset_energy_y.drop(dataset_energy_y_train.index)"
   ]
  },
  {
   "cell_type": "code",
   "execution_count": 12,
   "metadata": {},
   "outputs": [],
   "source": [
    "dataset_gas_X_train = dataset_gas_X.sample(int(len(dataset_gas_X)*0.9))\n",
    "dataset_gas_X_test = dataset_gas_X.drop(dataset_gas_X_train.index)\n",
    "\n",
    "dataset_gas_y_train = dataset_gas_y[dataset_gas_X_train.index]\n",
    "dataset_gas_y_test = dataset_gas_y.drop(dataset_gas_y_train.index)"
   ]
  },
  {
   "cell_type": "markdown",
   "metadata": {},
   "source": [
    "### A1: Predicción utilizando consumo eléctrico"
   ]
  },
  {
   "cell_type": "markdown",
   "metadata": {},
   "source": [
    "#### A1.1: Predicción sin balancear los datos"
   ]
  },
  {
   "cell_type": "code",
   "execution_count": 13,
   "metadata": {},
   "outputs": [
    {
     "data": {
      "text/plain": [
       "KMeans(n_clusters=3, random_state=42)"
      ]
     },
     "execution_count": 13,
     "metadata": {},
     "output_type": "execute_result"
    }
   ],
   "source": [
    "scaler = preprocessing.StandardScaler()\n",
    "data = dataset_energy_X_train\n",
    "norm_data = scaler.fit(data).transform(data)\n",
    "\n",
    "kmeans = KMeans(n_clusters = 3, random_state = 42)\n",
    "kmeans.fit(norm_data)"
   ]
  },
  {
   "cell_type": "code",
   "execution_count": 14,
   "metadata": {},
   "outputs": [],
   "source": [
    "cluster = kmeans.predict(norm_data)"
   ]
  },
  {
   "cell_type": "markdown",
   "metadata": {},
   "source": [
    "Train score:"
   ]
  },
  {
   "cell_type": "code",
   "execution_count": 15,
   "metadata": {},
   "outputs": [
    {
     "data": {
      "text/plain": [
       "0.7468062932831305"
      ]
     },
     "execution_count": 15,
     "metadata": {},
     "output_type": "execute_result"
    }
   ],
   "source": [
    "d = {\"Residential\": 0, \"Commercial\": 1, \"Industrial\": 2}\n",
    "accuracy_score(dataset_energy_y_train.map(d), cluster)"
   ]
  },
  {
   "cell_type": "markdown",
   "metadata": {},
   "source": [
    "Test score:"
   ]
  },
  {
   "cell_type": "code",
   "execution_count": 16,
   "metadata": {},
   "outputs": [],
   "source": [
    "scaler = preprocessing.StandardScaler()\n",
    "data = dataset_energy_X_test\n",
    "norm_data = scaler.fit(data).transform(data)\n",
    "\n",
    "cluster = kmeans.predict(norm_data)"
   ]
  },
  {
   "cell_type": "code",
   "execution_count": 17,
   "metadata": {},
   "outputs": [
    {
     "data": {
      "text/plain": [
       "0.7597942822568446"
      ]
     },
     "execution_count": 17,
     "metadata": {},
     "output_type": "execute_result"
    }
   ],
   "source": [
    "d = {\"Residential\": 0, \"Commercial\": 1, \"Industrial\": 2}\n",
    "accuracy_score(dataset_energy_y_test.map(d), cluster)"
   ]
  },
  {
   "cell_type": "markdown",
   "metadata": {},
   "source": [
    "#### A1.2: Predicción balanceando los datos"
   ]
  },
  {
   "cell_type": "markdown",
   "metadata": {},
   "source": [
    "Se balancean los datos."
   ]
  },
  {
   "cell_type": "code",
   "execution_count": 18,
   "metadata": {},
   "outputs": [
    {
     "data": {
      "text/html": [
       "<div>\n",
       "<style scoped>\n",
       "    .dataframe tbody tr th:only-of-type {\n",
       "        vertical-align: middle;\n",
       "    }\n",
       "\n",
       "    .dataframe tbody tr th {\n",
       "        vertical-align: top;\n",
       "    }\n",
       "\n",
       "    .dataframe thead th {\n",
       "        text-align: right;\n",
       "    }\n",
       "</style>\n",
       "<table border=\"1\" class=\"dataframe\">\n",
       "  <thead>\n",
       "    <tr style=\"text-align: right;\">\n",
       "      <th></th>\n",
       "      <th></th>\n",
       "      <th>KWH JANUARY 2010</th>\n",
       "      <th>KWH FEBRUARY 2010</th>\n",
       "      <th>KWH MARCH 2010</th>\n",
       "      <th>KWH APRIL 2010</th>\n",
       "      <th>KWH MAY 2010</th>\n",
       "      <th>KWH JUNE 2010</th>\n",
       "      <th>KWH JULY 2010</th>\n",
       "      <th>KWH AUGUST 2010</th>\n",
       "      <th>KWH SEPTEMBER 2010</th>\n",
       "      <th>KWH OCTOBER 2010</th>\n",
       "      <th>KWH NOVEMBER 2010</th>\n",
       "      <th>KWH DECEMBER 2010</th>\n",
       "      <th>BUILDING TYPE</th>\n",
       "    </tr>\n",
       "    <tr>\n",
       "      <th>BUILDING TYPE</th>\n",
       "      <th></th>\n",
       "      <th></th>\n",
       "      <th></th>\n",
       "      <th></th>\n",
       "      <th></th>\n",
       "      <th></th>\n",
       "      <th></th>\n",
       "      <th></th>\n",
       "      <th></th>\n",
       "      <th></th>\n",
       "      <th></th>\n",
       "      <th></th>\n",
       "      <th></th>\n",
       "      <th></th>\n",
       "    </tr>\n",
       "  </thead>\n",
       "  <tbody>\n",
       "    <tr>\n",
       "      <th rowspan=\"5\" valign=\"top\">Commercial</th>\n",
       "      <th>0</th>\n",
       "      <td>8076.0</td>\n",
       "      <td>7988.0</td>\n",
       "      <td>8598.0</td>\n",
       "      <td>9562.0</td>\n",
       "      <td>9821.0</td>\n",
       "      <td>10288.0</td>\n",
       "      <td>11636.0</td>\n",
       "      <td>11290.0</td>\n",
       "      <td>10466.0</td>\n",
       "      <td>10062.0</td>\n",
       "      <td>10598.0</td>\n",
       "      <td>11120.0</td>\n",
       "      <td>Commercial</td>\n",
       "    </tr>\n",
       "    <tr>\n",
       "      <th>1</th>\n",
       "      <td>11412.0</td>\n",
       "      <td>10808.0</td>\n",
       "      <td>11285.0</td>\n",
       "      <td>12010.0</td>\n",
       "      <td>12872.0</td>\n",
       "      <td>14416.0</td>\n",
       "      <td>16091.0</td>\n",
       "      <td>13222.0</td>\n",
       "      <td>11874.0</td>\n",
       "      <td>11062.0</td>\n",
       "      <td>14382.0</td>\n",
       "      <td>14304.0</td>\n",
       "      <td>Commercial</td>\n",
       "    </tr>\n",
       "    <tr>\n",
       "      <th>2</th>\n",
       "      <td>0.0</td>\n",
       "      <td>719.0</td>\n",
       "      <td>274.0</td>\n",
       "      <td>167.0</td>\n",
       "      <td>138.0</td>\n",
       "      <td>170.0</td>\n",
       "      <td>189.0</td>\n",
       "      <td>228.0</td>\n",
       "      <td>277.0</td>\n",
       "      <td>383.0</td>\n",
       "      <td>2139.0</td>\n",
       "      <td>1837.0</td>\n",
       "      <td>Commercial</td>\n",
       "    </tr>\n",
       "    <tr>\n",
       "      <th>3</th>\n",
       "      <td>14581.0</td>\n",
       "      <td>13973.0</td>\n",
       "      <td>14613.0</td>\n",
       "      <td>11522.0</td>\n",
       "      <td>17511.0</td>\n",
       "      <td>19829.0</td>\n",
       "      <td>22480.0</td>\n",
       "      <td>19950.0</td>\n",
       "      <td>16179.0</td>\n",
       "      <td>11221.0</td>\n",
       "      <td>14346.0</td>\n",
       "      <td>15774.0</td>\n",
       "      <td>Commercial</td>\n",
       "    </tr>\n",
       "    <tr>\n",
       "      <th>4</th>\n",
       "      <td>0.0</td>\n",
       "      <td>0.0</td>\n",
       "      <td>0.0</td>\n",
       "      <td>0.0</td>\n",
       "      <td>446.0</td>\n",
       "      <td>586.0</td>\n",
       "      <td>733.0</td>\n",
       "      <td>1011.0</td>\n",
       "      <td>503.0</td>\n",
       "      <td>338.0</td>\n",
       "      <td>1916.0</td>\n",
       "      <td>1760.0</td>\n",
       "      <td>Commercial</td>\n",
       "    </tr>\n",
       "    <tr>\n",
       "      <th>...</th>\n",
       "      <th>...</th>\n",
       "      <td>...</td>\n",
       "      <td>...</td>\n",
       "      <td>...</td>\n",
       "      <td>...</td>\n",
       "      <td>...</td>\n",
       "      <td>...</td>\n",
       "      <td>...</td>\n",
       "      <td>...</td>\n",
       "      <td>...</td>\n",
       "      <td>...</td>\n",
       "      <td>...</td>\n",
       "      <td>...</td>\n",
       "      <td>...</td>\n",
       "    </tr>\n",
       "    <tr>\n",
       "      <th rowspan=\"5\" valign=\"top\">Residential</th>\n",
       "      <th>21</th>\n",
       "      <td>3345.0</td>\n",
       "      <td>2839.0</td>\n",
       "      <td>2537.0</td>\n",
       "      <td>3436.0</td>\n",
       "      <td>4591.0</td>\n",
       "      <td>5601.0</td>\n",
       "      <td>5700.0</td>\n",
       "      <td>4033.0</td>\n",
       "      <td>2277.0</td>\n",
       "      <td>1965.0</td>\n",
       "      <td>4868.0</td>\n",
       "      <td>4094.0</td>\n",
       "      <td>Residential</td>\n",
       "    </tr>\n",
       "    <tr>\n",
       "      <th>22</th>\n",
       "      <td>2054.0</td>\n",
       "      <td>1197.0</td>\n",
       "      <td>1005.0</td>\n",
       "      <td>1744.0</td>\n",
       "      <td>2939.0</td>\n",
       "      <td>3136.0</td>\n",
       "      <td>3200.0</td>\n",
       "      <td>2205.0</td>\n",
       "      <td>1117.0</td>\n",
       "      <td>949.0</td>\n",
       "      <td>1521.0</td>\n",
       "      <td>2280.0</td>\n",
       "      <td>Residential</td>\n",
       "    </tr>\n",
       "    <tr>\n",
       "      <th>23</th>\n",
       "      <td>4187.0</td>\n",
       "      <td>3380.0</td>\n",
       "      <td>4229.0</td>\n",
       "      <td>3413.0</td>\n",
       "      <td>4593.0</td>\n",
       "      <td>9306.0</td>\n",
       "      <td>9454.0</td>\n",
       "      <td>5306.0</td>\n",
       "      <td>3826.0</td>\n",
       "      <td>3194.0</td>\n",
       "      <td>5763.0</td>\n",
       "      <td>7348.0</td>\n",
       "      <td>Residential</td>\n",
       "    </tr>\n",
       "    <tr>\n",
       "      <th>24</th>\n",
       "      <td>9582.0</td>\n",
       "      <td>7683.0</td>\n",
       "      <td>6774.0</td>\n",
       "      <td>7880.0</td>\n",
       "      <td>11154.0</td>\n",
       "      <td>16201.0</td>\n",
       "      <td>17010.0</td>\n",
       "      <td>12129.0</td>\n",
       "      <td>8166.0</td>\n",
       "      <td>11656.0</td>\n",
       "      <td>14434.0</td>\n",
       "      <td>14911.0</td>\n",
       "      <td>Residential</td>\n",
       "    </tr>\n",
       "    <tr>\n",
       "      <th>25</th>\n",
       "      <td>3587.0</td>\n",
       "      <td>4954.0</td>\n",
       "      <td>4450.0</td>\n",
       "      <td>4221.0</td>\n",
       "      <td>5379.0</td>\n",
       "      <td>6613.0</td>\n",
       "      <td>6679.0</td>\n",
       "      <td>6238.0</td>\n",
       "      <td>5310.0</td>\n",
       "      <td>7720.0</td>\n",
       "      <td>8025.0</td>\n",
       "      <td>8557.0</td>\n",
       "      <td>Residential</td>\n",
       "    </tr>\n",
       "  </tbody>\n",
       "</table>\n",
       "<p>78 rows × 13 columns</p>\n",
       "</div>"
      ],
      "text/plain": [
       "                  KWH JANUARY 2010  KWH FEBRUARY 2010  KWH MARCH 2010  \\\n",
       "BUILDING TYPE                                                           \n",
       "Commercial    0             8076.0             7988.0          8598.0   \n",
       "              1            11412.0            10808.0         11285.0   \n",
       "              2                0.0              719.0           274.0   \n",
       "              3            14581.0            13973.0         14613.0   \n",
       "              4                0.0                0.0             0.0   \n",
       "...                            ...                ...             ...   \n",
       "Residential   21            3345.0             2839.0          2537.0   \n",
       "              22            2054.0             1197.0          1005.0   \n",
       "              23            4187.0             3380.0          4229.0   \n",
       "              24            9582.0             7683.0          6774.0   \n",
       "              25            3587.0             4954.0          4450.0   \n",
       "\n",
       "                  KWH APRIL 2010  KWH MAY 2010  KWH JUNE 2010  KWH JULY 2010  \\\n",
       "BUILDING TYPE                                                                  \n",
       "Commercial    0           9562.0        9821.0        10288.0        11636.0   \n",
       "              1          12010.0       12872.0        14416.0        16091.0   \n",
       "              2            167.0         138.0          170.0          189.0   \n",
       "              3          11522.0       17511.0        19829.0        22480.0   \n",
       "              4              0.0         446.0          586.0          733.0   \n",
       "...                          ...           ...            ...            ...   \n",
       "Residential   21          3436.0        4591.0         5601.0         5700.0   \n",
       "              22          1744.0        2939.0         3136.0         3200.0   \n",
       "              23          3413.0        4593.0         9306.0         9454.0   \n",
       "              24          7880.0       11154.0        16201.0        17010.0   \n",
       "              25          4221.0        5379.0         6613.0         6679.0   \n",
       "\n",
       "                  KWH AUGUST 2010  KWH SEPTEMBER 2010  KWH OCTOBER 2010  \\\n",
       "BUILDING TYPE                                                             \n",
       "Commercial    0           11290.0             10466.0           10062.0   \n",
       "              1           13222.0             11874.0           11062.0   \n",
       "              2             228.0               277.0             383.0   \n",
       "              3           19950.0             16179.0           11221.0   \n",
       "              4            1011.0               503.0             338.0   \n",
       "...                           ...                 ...               ...   \n",
       "Residential   21           4033.0              2277.0            1965.0   \n",
       "              22           2205.0              1117.0             949.0   \n",
       "              23           5306.0              3826.0            3194.0   \n",
       "              24          12129.0              8166.0           11656.0   \n",
       "              25           6238.0              5310.0            7720.0   \n",
       "\n",
       "                  KWH NOVEMBER 2010  KWH DECEMBER 2010 BUILDING TYPE  \n",
       "BUILDING TYPE                                                         \n",
       "Commercial    0             10598.0            11120.0    Commercial  \n",
       "              1             14382.0            14304.0    Commercial  \n",
       "              2              2139.0             1837.0    Commercial  \n",
       "              3             14346.0            15774.0    Commercial  \n",
       "              4              1916.0             1760.0    Commercial  \n",
       "...                             ...                ...           ...  \n",
       "Residential   21             4868.0             4094.0   Residential  \n",
       "              22             1521.0             2280.0   Residential  \n",
       "              23             5763.0             7348.0   Residential  \n",
       "              24            14434.0            14911.0   Residential  \n",
       "              25             8025.0             8557.0   Residential  \n",
       "\n",
       "[78 rows x 13 columns]"
      ]
     },
     "execution_count": 18,
     "metadata": {},
     "output_type": "execute_result"
    }
   ],
   "source": [
    "g = dataset_energy.groupby(\"BUILDING TYPE\")\n",
    "dataset_energy_bal = g.apply(lambda x: x.sample(g.size().min()).reset_index(drop=True))\n",
    "\n",
    "dataset_energy_bal[\"BUILDING TYPE\"] = dataset_energy_bal.index\n",
    "dataset_energy_bal[\"BUILDING TYPE\"] = dataset_energy_bal[\"BUILDING TYPE\"].apply(lambda x: x[0])\n",
    "\n",
    "dataset_energy_bal"
   ]
  },
  {
   "cell_type": "code",
   "execution_count": 19,
   "metadata": {},
   "outputs": [],
   "source": [
    "dataset_energy_bal_X = dataset_energy_bal[dl.energy_cols]\n",
    "dataset_energy_bal_y = dataset_energy_bal['BUILDING TYPE']"
   ]
  },
  {
   "cell_type": "code",
   "execution_count": 20,
   "metadata": {},
   "outputs": [],
   "source": [
    "dataset_energy_bal_X_train = dataset_energy_bal_X.sample(int(len(dataset_energy_bal_X)*0.9))\n",
    "dataset_energy_bal_X_test = dataset_energy_bal_X.drop(dataset_energy_bal_X_train.index)\n",
    "\n",
    "dataset_energy_bal_y_train = dataset_energy_bal_y[dataset_energy_bal_X_train.index]\n",
    "dataset_energy_bal_y_test = dataset_energy_bal_y.drop(dataset_energy_bal_y_train.index)"
   ]
  },
  {
   "cell_type": "markdown",
   "metadata": {},
   "source": [
    "Predicción"
   ]
  },
  {
   "cell_type": "code",
   "execution_count": 21,
   "metadata": {},
   "outputs": [
    {
     "data": {
      "text/plain": [
       "KMeans(n_clusters=3, random_state=42)"
      ]
     },
     "execution_count": 21,
     "metadata": {},
     "output_type": "execute_result"
    }
   ],
   "source": [
    "scaler = preprocessing.StandardScaler()\n",
    "data = dataset_energy_bal_X_train\n",
    "norm_data = scaler.fit(data).transform(data)\n",
    "\n",
    "kmeans = KMeans(n_clusters = 3, random_state = 42)\n",
    "kmeans.fit(norm_data)"
   ]
  },
  {
   "cell_type": "code",
   "execution_count": 22,
   "metadata": {},
   "outputs": [],
   "source": [
    "cluster = kmeans.predict(norm_data)"
   ]
  },
  {
   "cell_type": "markdown",
   "metadata": {},
   "source": [
    "Train score:"
   ]
  },
  {
   "cell_type": "code",
   "execution_count": 23,
   "metadata": {},
   "outputs": [
    {
     "data": {
      "text/plain": [
       "0.37142857142857144"
      ]
     },
     "execution_count": 23,
     "metadata": {},
     "output_type": "execute_result"
    }
   ],
   "source": [
    "d = {\"Residential\": 0, \"Commercial\": 1, \"Industrial\": 2}\n",
    "accuracy_score(dataset_energy_bal_y_train.map(d), cluster)"
   ]
  },
  {
   "cell_type": "markdown",
   "metadata": {},
   "source": [
    "Test score:"
   ]
  },
  {
   "cell_type": "code",
   "execution_count": 24,
   "metadata": {},
   "outputs": [],
   "source": [
    "scaler = preprocessing.StandardScaler()\n",
    "data = dataset_energy_bal_X_test\n",
    "norm_data = scaler.fit(data).transform(data)\n",
    "\n",
    "cluster = kmeans.predict(norm_data)"
   ]
  },
  {
   "cell_type": "code",
   "execution_count": 25,
   "metadata": {},
   "outputs": [
    {
     "data": {
      "text/plain": [
       "0.5"
      ]
     },
     "execution_count": 25,
     "metadata": {},
     "output_type": "execute_result"
    }
   ],
   "source": [
    "d = {\"Residential\": 0, \"Commercial\": 1, \"Industrial\": 2}\n",
    "accuracy_score(dataset_energy_bal_y_test.map(d), cluster)"
   ]
  },
  {
   "cell_type": "markdown",
   "metadata": {},
   "source": [
    "### A2: Predicción utilizando consumo de gas"
   ]
  },
  {
   "cell_type": "markdown",
   "metadata": {},
   "source": [
    "#### A2.1: Predicción sin balancear los datos"
   ]
  },
  {
   "cell_type": "code",
   "execution_count": 26,
   "metadata": {},
   "outputs": [
    {
     "data": {
      "text/plain": [
       "KMeans(n_clusters=3, random_state=42)"
      ]
     },
     "execution_count": 26,
     "metadata": {},
     "output_type": "execute_result"
    }
   ],
   "source": [
    "scaler = preprocessing.StandardScaler()\n",
    "data = dataset_gas_X_train\n",
    "norm_data = scaler.fit(data).transform(data)\n",
    "\n",
    "kmeans = KMeans(n_clusters = 3, random_state = 42)\n",
    "kmeans.fit(norm_data)"
   ]
  },
  {
   "cell_type": "code",
   "execution_count": 27,
   "metadata": {},
   "outputs": [],
   "source": [
    "cluster = kmeans.predict(norm_data)"
   ]
  },
  {
   "cell_type": "markdown",
   "metadata": {},
   "source": [
    "Train score:"
   ]
  },
  {
   "cell_type": "code",
   "execution_count": 28,
   "metadata": {},
   "outputs": [
    {
     "data": {
      "text/plain": [
       "0.7603819838278878"
      ]
     },
     "execution_count": 28,
     "metadata": {},
     "output_type": "execute_result"
    }
   ],
   "source": [
    "d = {\"Residential\": 0, \"Commercial\": 1, \"Industrial\": 2}\n",
    "accuracy_score(dataset_gas_y_train.map(d), cluster)"
   ]
  },
  {
   "cell_type": "markdown",
   "metadata": {},
   "source": [
    "Test score:"
   ]
  },
  {
   "cell_type": "code",
   "execution_count": 29,
   "metadata": {},
   "outputs": [],
   "source": [
    "scaler = preprocessing.StandardScaler()\n",
    "data = dataset_gas_X_test\n",
    "norm_data = scaler.fit(data).transform(data)\n",
    "\n",
    "cluster = kmeans.predict(norm_data)"
   ]
  },
  {
   "cell_type": "code",
   "execution_count": 30,
   "metadata": {},
   "outputs": [
    {
     "data": {
      "text/plain": [
       "0.7627593019427066"
      ]
     },
     "execution_count": 30,
     "metadata": {},
     "output_type": "execute_result"
    }
   ],
   "source": [
    "d = {\"Residential\": 0, \"Commercial\": 1, \"Industrial\": 2}\n",
    "accuracy_score(dataset_gas_y_test.map(d), cluster)"
   ]
  },
  {
   "cell_type": "markdown",
   "metadata": {},
   "source": [
    "#### A2.2: Predicción balanceando los datos"
   ]
  },
  {
   "cell_type": "markdown",
   "metadata": {},
   "source": [
    "Se balancean los datos."
   ]
  },
  {
   "cell_type": "code",
   "execution_count": 31,
   "metadata": {},
   "outputs": [
    {
     "data": {
      "text/html": [
       "<div>\n",
       "<style scoped>\n",
       "    .dataframe tbody tr th:only-of-type {\n",
       "        vertical-align: middle;\n",
       "    }\n",
       "\n",
       "    .dataframe tbody tr th {\n",
       "        vertical-align: top;\n",
       "    }\n",
       "\n",
       "    .dataframe thead th {\n",
       "        text-align: right;\n",
       "    }\n",
       "</style>\n",
       "<table border=\"1\" class=\"dataframe\">\n",
       "  <thead>\n",
       "    <tr style=\"text-align: right;\">\n",
       "      <th></th>\n",
       "      <th></th>\n",
       "      <th>THERM JANUARY 2010</th>\n",
       "      <th>THERM FEBRUARY 2010</th>\n",
       "      <th>THERM MARCH 2010</th>\n",
       "      <th>THERM APRIL 2010</th>\n",
       "      <th>THERM MAY 2010</th>\n",
       "      <th>THERM JUNE 2010</th>\n",
       "      <th>THERM JULY 2010</th>\n",
       "      <th>THERM AUGUST 2010</th>\n",
       "      <th>THERM SEPTEMBER 2010</th>\n",
       "      <th>THERM OCTOBER 2010</th>\n",
       "      <th>THERM NOVEMBER 2010</th>\n",
       "      <th>THERM DECEMBER 2010</th>\n",
       "      <th>BUILDING TYPE</th>\n",
       "    </tr>\n",
       "    <tr>\n",
       "      <th>BUILDING TYPE</th>\n",
       "      <th></th>\n",
       "      <th></th>\n",
       "      <th></th>\n",
       "      <th></th>\n",
       "      <th></th>\n",
       "      <th></th>\n",
       "      <th></th>\n",
       "      <th></th>\n",
       "      <th></th>\n",
       "      <th></th>\n",
       "      <th></th>\n",
       "      <th></th>\n",
       "      <th></th>\n",
       "      <th></th>\n",
       "    </tr>\n",
       "  </thead>\n",
       "  <tbody>\n",
       "    <tr>\n",
       "      <th rowspan=\"5\" valign=\"top\">Commercial</th>\n",
       "      <th>0</th>\n",
       "      <td>2038.0</td>\n",
       "      <td>1694.0</td>\n",
       "      <td>1699.0</td>\n",
       "      <td>1319.0</td>\n",
       "      <td>469.0</td>\n",
       "      <td>368.0</td>\n",
       "      <td>256.0</td>\n",
       "      <td>207.0</td>\n",
       "      <td>209.0</td>\n",
       "      <td>217.0</td>\n",
       "      <td>605.0</td>\n",
       "      <td>1199.0</td>\n",
       "      <td>Commercial</td>\n",
       "    </tr>\n",
       "    <tr>\n",
       "      <th>1</th>\n",
       "      <td>4909.0</td>\n",
       "      <td>4045.0</td>\n",
       "      <td>2223.0</td>\n",
       "      <td>698.0</td>\n",
       "      <td>291.0</td>\n",
       "      <td>261.0</td>\n",
       "      <td>260.0</td>\n",
       "      <td>90.0</td>\n",
       "      <td>79.0</td>\n",
       "      <td>162.0</td>\n",
       "      <td>1365.0</td>\n",
       "      <td>4711.0</td>\n",
       "      <td>Commercial</td>\n",
       "    </tr>\n",
       "    <tr>\n",
       "      <th>2</th>\n",
       "      <td>502.0</td>\n",
       "      <td>462.0</td>\n",
       "      <td>487.0</td>\n",
       "      <td>721.0</td>\n",
       "      <td>755.0</td>\n",
       "      <td>618.0</td>\n",
       "      <td>862.0</td>\n",
       "      <td>610.0</td>\n",
       "      <td>746.0</td>\n",
       "      <td>604.0</td>\n",
       "      <td>547.0</td>\n",
       "      <td>636.0</td>\n",
       "      <td>Commercial</td>\n",
       "    </tr>\n",
       "    <tr>\n",
       "      <th>3</th>\n",
       "      <td>1686.0</td>\n",
       "      <td>1397.0</td>\n",
       "      <td>1519.0</td>\n",
       "      <td>2158.0</td>\n",
       "      <td>590.0</td>\n",
       "      <td>1240.0</td>\n",
       "      <td>602.0</td>\n",
       "      <td>1233.0</td>\n",
       "      <td>536.0</td>\n",
       "      <td>1407.0</td>\n",
       "      <td>1291.0</td>\n",
       "      <td>2108.0</td>\n",
       "      <td>Commercial</td>\n",
       "    </tr>\n",
       "    <tr>\n",
       "      <th>4</th>\n",
       "      <td>3405.0</td>\n",
       "      <td>4301.0</td>\n",
       "      <td>3137.0</td>\n",
       "      <td>888.0</td>\n",
       "      <td>425.0</td>\n",
       "      <td>94.0</td>\n",
       "      <td>39.0</td>\n",
       "      <td>28.0</td>\n",
       "      <td>26.0</td>\n",
       "      <td>74.0</td>\n",
       "      <td>114.0</td>\n",
       "      <td>2017.0</td>\n",
       "      <td>Commercial</td>\n",
       "    </tr>\n",
       "    <tr>\n",
       "      <th>...</th>\n",
       "      <th>...</th>\n",
       "      <td>...</td>\n",
       "      <td>...</td>\n",
       "      <td>...</td>\n",
       "      <td>...</td>\n",
       "      <td>...</td>\n",
       "      <td>...</td>\n",
       "      <td>...</td>\n",
       "      <td>...</td>\n",
       "      <td>...</td>\n",
       "      <td>...</td>\n",
       "      <td>...</td>\n",
       "      <td>...</td>\n",
       "      <td>...</td>\n",
       "    </tr>\n",
       "    <tr>\n",
       "      <th rowspan=\"5\" valign=\"top\">Residential</th>\n",
       "      <th>26</th>\n",
       "      <td>3500.0</td>\n",
       "      <td>3353.0</td>\n",
       "      <td>2445.0</td>\n",
       "      <td>1249.0</td>\n",
       "      <td>773.0</td>\n",
       "      <td>368.0</td>\n",
       "      <td>273.0</td>\n",
       "      <td>269.0</td>\n",
       "      <td>257.0</td>\n",
       "      <td>335.0</td>\n",
       "      <td>1014.0</td>\n",
       "      <td>2637.0</td>\n",
       "      <td>Residential</td>\n",
       "    </tr>\n",
       "    <tr>\n",
       "      <th>27</th>\n",
       "      <td>3830.0</td>\n",
       "      <td>3445.0</td>\n",
       "      <td>2646.0</td>\n",
       "      <td>1422.0</td>\n",
       "      <td>944.0</td>\n",
       "      <td>539.0</td>\n",
       "      <td>356.0</td>\n",
       "      <td>368.0</td>\n",
       "      <td>355.0</td>\n",
       "      <td>447.0</td>\n",
       "      <td>1111.0</td>\n",
       "      <td>2884.0</td>\n",
       "      <td>Residential</td>\n",
       "    </tr>\n",
       "    <tr>\n",
       "      <th>28</th>\n",
       "      <td>6662.0</td>\n",
       "      <td>5718.0</td>\n",
       "      <td>4056.0</td>\n",
       "      <td>2037.0</td>\n",
       "      <td>1070.0</td>\n",
       "      <td>569.0</td>\n",
       "      <td>482.0</td>\n",
       "      <td>449.0</td>\n",
       "      <td>606.0</td>\n",
       "      <td>1099.0</td>\n",
       "      <td>2390.0</td>\n",
       "      <td>7094.0</td>\n",
       "      <td>Residential</td>\n",
       "    </tr>\n",
       "    <tr>\n",
       "      <th>29</th>\n",
       "      <td>5927.0</td>\n",
       "      <td>5112.0</td>\n",
       "      <td>4867.0</td>\n",
       "      <td>2359.0</td>\n",
       "      <td>1544.0</td>\n",
       "      <td>1126.0</td>\n",
       "      <td>857.0</td>\n",
       "      <td>890.0</td>\n",
       "      <td>807.0</td>\n",
       "      <td>972.0</td>\n",
       "      <td>1352.0</td>\n",
       "      <td>2864.0</td>\n",
       "      <td>Residential</td>\n",
       "    </tr>\n",
       "    <tr>\n",
       "      <th>30</th>\n",
       "      <td>4426.0</td>\n",
       "      <td>3886.0</td>\n",
       "      <td>2871.0</td>\n",
       "      <td>1643.0</td>\n",
       "      <td>962.0</td>\n",
       "      <td>380.0</td>\n",
       "      <td>379.0</td>\n",
       "      <td>314.0</td>\n",
       "      <td>323.0</td>\n",
       "      <td>785.0</td>\n",
       "      <td>1778.0</td>\n",
       "      <td>4090.0</td>\n",
       "      <td>Residential</td>\n",
       "    </tr>\n",
       "  </tbody>\n",
       "</table>\n",
       "<p>93 rows × 13 columns</p>\n",
       "</div>"
      ],
      "text/plain": [
       "                  THERM JANUARY 2010  THERM FEBRUARY 2010  THERM MARCH 2010  \\\n",
       "BUILDING TYPE                                                                 \n",
       "Commercial    0               2038.0               1694.0            1699.0   \n",
       "              1               4909.0               4045.0            2223.0   \n",
       "              2                502.0                462.0             487.0   \n",
       "              3               1686.0               1397.0            1519.0   \n",
       "              4               3405.0               4301.0            3137.0   \n",
       "...                              ...                  ...               ...   \n",
       "Residential   26              3500.0               3353.0            2445.0   \n",
       "              27              3830.0               3445.0            2646.0   \n",
       "              28              6662.0               5718.0            4056.0   \n",
       "              29              5927.0               5112.0            4867.0   \n",
       "              30              4426.0               3886.0            2871.0   \n",
       "\n",
       "                  THERM APRIL 2010  THERM MAY 2010  THERM JUNE 2010  \\\n",
       "BUILDING TYPE                                                         \n",
       "Commercial    0             1319.0           469.0            368.0   \n",
       "              1              698.0           291.0            261.0   \n",
       "              2              721.0           755.0            618.0   \n",
       "              3             2158.0           590.0           1240.0   \n",
       "              4              888.0           425.0             94.0   \n",
       "...                            ...             ...              ...   \n",
       "Residential   26            1249.0           773.0            368.0   \n",
       "              27            1422.0           944.0            539.0   \n",
       "              28            2037.0          1070.0            569.0   \n",
       "              29            2359.0          1544.0           1126.0   \n",
       "              30            1643.0           962.0            380.0   \n",
       "\n",
       "                  THERM JULY 2010  THERM AUGUST 2010  THERM SEPTEMBER 2010  \\\n",
       "BUILDING TYPE                                                                \n",
       "Commercial    0             256.0              207.0                 209.0   \n",
       "              1             260.0               90.0                  79.0   \n",
       "              2             862.0              610.0                 746.0   \n",
       "              3             602.0             1233.0                 536.0   \n",
       "              4              39.0               28.0                  26.0   \n",
       "...                           ...                ...                   ...   \n",
       "Residential   26            273.0              269.0                 257.0   \n",
       "              27            356.0              368.0                 355.0   \n",
       "              28            482.0              449.0                 606.0   \n",
       "              29            857.0              890.0                 807.0   \n",
       "              30            379.0              314.0                 323.0   \n",
       "\n",
       "                  THERM OCTOBER 2010  THERM NOVEMBER 2010  \\\n",
       "BUILDING TYPE                                               \n",
       "Commercial    0                217.0                605.0   \n",
       "              1                162.0               1365.0   \n",
       "              2                604.0                547.0   \n",
       "              3               1407.0               1291.0   \n",
       "              4                 74.0                114.0   \n",
       "...                              ...                  ...   \n",
       "Residential   26               335.0               1014.0   \n",
       "              27               447.0               1111.0   \n",
       "              28              1099.0               2390.0   \n",
       "              29               972.0               1352.0   \n",
       "              30               785.0               1778.0   \n",
       "\n",
       "                  THERM DECEMBER 2010 BUILDING TYPE  \n",
       "BUILDING TYPE                                        \n",
       "Commercial    0                1199.0    Commercial  \n",
       "              1                4711.0    Commercial  \n",
       "              2                 636.0    Commercial  \n",
       "              3                2108.0    Commercial  \n",
       "              4                2017.0    Commercial  \n",
       "...                               ...           ...  \n",
       "Residential   26               2637.0   Residential  \n",
       "              27               2884.0   Residential  \n",
       "              28               7094.0   Residential  \n",
       "              29               2864.0   Residential  \n",
       "              30               4090.0   Residential  \n",
       "\n",
       "[93 rows x 13 columns]"
      ]
     },
     "execution_count": 31,
     "metadata": {},
     "output_type": "execute_result"
    }
   ],
   "source": [
    "g = dataset_gas.groupby(\"BUILDING TYPE\")\n",
    "dataset_gas_bal = g.apply(lambda x: x.sample(g.size().min()).reset_index(drop=True))\n",
    "\n",
    "dataset_gas_bal[\"BUILDING TYPE\"] = dataset_gas_bal.index\n",
    "dataset_gas_bal[\"BUILDING TYPE\"] = dataset_gas_bal[\"BUILDING TYPE\"].apply(lambda x: x[0])\n",
    "\n",
    "dataset_gas_bal"
   ]
  },
  {
   "cell_type": "code",
   "execution_count": 32,
   "metadata": {},
   "outputs": [],
   "source": [
    "dataset_gas_bal_X = dataset_gas_bal[dl.gas_cols]\n",
    "dataset_gas_bal_y = dataset_gas_bal['BUILDING TYPE']"
   ]
  },
  {
   "cell_type": "code",
   "execution_count": 33,
   "metadata": {},
   "outputs": [],
   "source": [
    "dataset_gas_bal_X_train = dataset_gas_bal_X.sample(int(len(dataset_gas_bal_X)*0.9))\n",
    "dataset_gas_bal_X_test = dataset_gas_bal_X.drop(dataset_gas_bal_X_train.index)\n",
    "\n",
    "dataset_gas_bal_y_train = dataset_gas_bal_y[dataset_gas_bal_X_train.index]\n",
    "dataset_gas_bal_y_test = dataset_gas_bal_y.drop(dataset_gas_bal_y_train.index)"
   ]
  },
  {
   "cell_type": "markdown",
   "metadata": {},
   "source": [
    "Predicción"
   ]
  },
  {
   "cell_type": "code",
   "execution_count": 34,
   "metadata": {},
   "outputs": [
    {
     "data": {
      "text/plain": [
       "KMeans(n_clusters=3, random_state=42)"
      ]
     },
     "execution_count": 34,
     "metadata": {},
     "output_type": "execute_result"
    }
   ],
   "source": [
    "scaler = preprocessing.StandardScaler()\n",
    "data = dataset_gas_bal_X_train\n",
    "norm_data = scaler.fit(data).transform(data)\n",
    "\n",
    "kmeans = KMeans(n_clusters = 3, random_state = 42)\n",
    "kmeans.fit(norm_data)"
   ]
  },
  {
   "cell_type": "code",
   "execution_count": 35,
   "metadata": {},
   "outputs": [],
   "source": [
    "cluster = kmeans.predict(norm_data)"
   ]
  },
  {
   "cell_type": "markdown",
   "metadata": {},
   "source": [
    "Train score:"
   ]
  },
  {
   "cell_type": "code",
   "execution_count": 36,
   "metadata": {},
   "outputs": [
    {
     "data": {
      "text/plain": [
       "0.3614457831325301"
      ]
     },
     "execution_count": 36,
     "metadata": {},
     "output_type": "execute_result"
    }
   ],
   "source": [
    "d = {\"Residential\": 0, \"Commercial\": 1, \"Industrial\": 2}\n",
    "accuracy_score(dataset_gas_bal_y_train.map(d), cluster)"
   ]
  },
  {
   "cell_type": "markdown",
   "metadata": {},
   "source": [
    "Test score:"
   ]
  },
  {
   "cell_type": "code",
   "execution_count": 37,
   "metadata": {},
   "outputs": [],
   "source": [
    "scaler = preprocessing.StandardScaler()\n",
    "data = dataset_gas_bal_X_test\n",
    "norm_data = scaler.fit(data).transform(data)\n",
    "\n",
    "cluster = kmeans.predict(norm_data)"
   ]
  },
  {
   "cell_type": "code",
   "execution_count": 38,
   "metadata": {},
   "outputs": [
    {
     "data": {
      "text/plain": [
       "0.1"
      ]
     },
     "execution_count": 38,
     "metadata": {},
     "output_type": "execute_result"
    }
   ],
   "source": [
    "d = {\"Residential\": 0, \"Commercial\": 1, \"Industrial\": 2}\n",
    "accuracy_score(dataset_gas_bal_y_test.map(d), cluster)"
   ]
  }
 ],
 "metadata": {
  "kernelspec": {
   "display_name": "Python 3",
   "language": "python",
   "name": "python3"
  },
  "language_info": {
   "codemirror_mode": {
    "name": "ipython",
    "version": 3
   },
   "file_extension": ".py",
   "mimetype": "text/x-python",
   "name": "python",
   "nbconvert_exporter": "python",
   "pygments_lexer": "ipython3",
   "version": "3.8.5"
  }
 },
 "nbformat": 4,
 "nbformat_minor": 4
}
